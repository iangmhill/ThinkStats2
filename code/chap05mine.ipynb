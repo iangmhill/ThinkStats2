{
 "metadata": {
  "name": "",
  "signature": "sha256:f3926976dfa352269082d623f8e8ecb5ee43bf83c7ec0e01fa7d61be93bda7ca"
 },
 "nbformat": 3,
 "nbformat_minor": 0,
 "worksheets": [
  {
   "cells": [
    {
     "cell_type": "code",
     "collapsed": false,
     "input": [
      "from __future__ import print_function, division\n",
      "\n",
      "import thinkstats2\n",
      "import thinkplot\n",
      "\n",
      "%matplotlib inline"
     ],
     "language": "python",
     "metadata": {},
     "outputs": [],
     "prompt_number": 1
    },
    {
     "cell_type": "markdown",
     "metadata": {},
     "source": [
      "##Exercise 5.1\n",
      "\n",
      "In the BRFSS (see Section 5.4), the distribution of heights is roughly normal with parameters \u00b5 = 178 cm and \u03c3 = 7.7 cm for men, and \u00b5 = 163 cm and \u03c3 = 7.3 cm for women.\n",
      "\n",
      "In order to join Blue Man Group, you have to be male between 5\u201910\u201d and 6\u20191\u201d (see http://bluemancasting.com). What percentage of the U.S. male population is in this range? Hint: use scipy.stats.norm.cdf."
     ]
    },
    {
     "cell_type": "markdown",
     "metadata": {},
     "source": [
      "<tt>scipy.stats</tt> contains objects that represent analytic distributions"
     ]
    },
    {
     "cell_type": "code",
     "collapsed": false,
     "input": [
      "import scipy.stats"
     ],
     "language": "python",
     "metadata": {},
     "outputs": [],
     "prompt_number": 2
    },
    {
     "cell_type": "markdown",
     "metadata": {},
     "source": [
      "For example <tt>scipy.stats.norm</tt> represents a normal distribution."
     ]
    },
    {
     "cell_type": "code",
     "collapsed": false,
     "input": [
      "mu = 178\n",
      "sigma = 7.7\n",
      "dist = scipy.stats.norm(loc=mu, scale=sigma)\n",
      "type(dist)"
     ],
     "language": "python",
     "metadata": {},
     "outputs": [
      {
       "metadata": {},
       "output_type": "pyout",
       "prompt_number": 3,
       "text": [
        "scipy.stats._distn_infrastructure.rv_frozen"
       ]
      }
     ],
     "prompt_number": 3
    },
    {
     "cell_type": "markdown",
     "metadata": {},
     "source": [
      "A \"frozen random variable\" can compute its mean and standard deviation."
     ]
    },
    {
     "cell_type": "code",
     "collapsed": false,
     "input": [
      "dist.mean(), dist.std()"
     ],
     "language": "python",
     "metadata": {},
     "outputs": [
      {
       "metadata": {},
       "output_type": "pyout",
       "prompt_number": 4,
       "text": [
        "(178.0, 7.7000000000000002)"
       ]
      }
     ],
     "prompt_number": 4
    },
    {
     "cell_type": "markdown",
     "metadata": {},
     "source": [
      "It can also evaluate its CDF.  How many people are more than one standard deviation below the mean?  About 16%"
     ]
    },
    {
     "cell_type": "code",
     "collapsed": false,
     "input": [
      "dist.cdf(mu-sigma)"
     ],
     "language": "python",
     "metadata": {},
     "outputs": [
      {
       "metadata": {},
       "output_type": "pyout",
       "prompt_number": 5,
       "text": [
        "0.15865525393145744"
       ]
      }
     ],
     "prompt_number": 5
    },
    {
     "cell_type": "markdown",
     "metadata": {},
     "source": [
      "How many people are between 5'10\" and 6'1\"?"
     ]
    },
    {
     "cell_type": "code",
     "collapsed": false,
     "input": [
      "dist.cdf(185.4)-dist.cdf(177.8)"
     ],
     "language": "python",
     "metadata": {},
     "outputs": [
      {
       "metadata": {},
       "output_type": "pyout",
       "prompt_number": 6,
       "text": [
        "0.34209468294595308"
       ]
      }
     ],
     "prompt_number": 6
    },
    {
     "cell_type": "markdown",
     "metadata": {},
     "source": [
      "##Exercise 5.2\n",
      "\n",
      "To get a feel for the Pareto distribution, let\u2019s see how different the world would be if the distribution of human height were Pareto. With the parameters $x_m = 1$ m and $\u03b1 = 1.7$, we get a distribution with a reasonable minimum, 1 m, and median, 1.5 m.\n",
      "\n",
      "Plot this distribution. What is the mean human height in Pareto world? What fraction of the population is shorter than the mean? If there are 7 billion people in Pareto world, how many do we expect to be taller than 1 km? How tall do we expect the tallest person to be?\n",
      "\n",
      "<tt>scipy.stats.pareto</tt> represents a pareto distribution.  In Pareto world, the distribution of human heights has parameters alpha=1.7 and xmin=1 meter.  So the shortest person is 100 cm and the median is 150."
     ]
    },
    {
     "cell_type": "code",
     "collapsed": false,
     "input": [
      "alpha = 1.7\n",
      "xmin = 1\n",
      "dist = scipy.stats.pareto(b=alpha, scale=xmin)\n",
      "dist.median()"
     ],
     "language": "python",
     "metadata": {},
     "outputs": [
      {
       "metadata": {},
       "output_type": "pyout",
       "prompt_number": 7,
       "text": [
        "1.5034066538560549"
       ]
      }
     ],
     "prompt_number": 7
    },
    {
     "cell_type": "code",
     "collapsed": false,
     "input": [
      "xs, ps = thinkstats2.RenderParetoCdf(xmin, alpha, 0, 10.0, n=100) \n",
      "thinkplot.Plot(xs, ps, label=r'$\\alpha=%g$' % alpha)\n",
      "thinkplot.Config(xlabel='height (m)', ylabel='CDF')"
     ],
     "language": "python",
     "metadata": {},
     "outputs": [
      {
       "metadata": {},
       "output_type": "display_data",
       "png": "[encoded data removed]",
       "text": [
        "<matplotlib.figure.Figure at 0xac9c97ec>"
       ]
      }
     ],
     "prompt_number": 8
    },
    {
     "cell_type": "markdown",
     "metadata": {},
     "source": [
      "What is the mean height in Pareto world?"
     ]
    },
    {
     "cell_type": "code",
     "collapsed": false,
     "input": [
      "dist.mean()"
     ],
     "language": "python",
     "metadata": {},
     "outputs": [
      {
       "metadata": {},
       "output_type": "pyout",
       "prompt_number": 9,
       "text": [
        "2.4285714285714288"
       ]
      }
     ],
     "prompt_number": 9
    },
    {
     "cell_type": "markdown",
     "metadata": {},
     "source": [
      "What fraction of people are shorter than the mean?"
     ]
    },
    {
     "cell_type": "code",
     "collapsed": false,
     "input": [
      "dist.cdf(dist.mean())"
     ],
     "language": "python",
     "metadata": {},
     "outputs": [
      {
       "metadata": {},
       "output_type": "pyout",
       "prompt_number": 10,
       "text": [
        "0.77873969756528805"
       ]
      }
     ],
     "prompt_number": 10
    },
    {
     "cell_type": "markdown",
     "metadata": {},
     "source": [
      "Out of 7 billion people, how many do we expect to be taller than 1 km?  You could use <tt>dist.cdf</tt> or <tt>dist.sf</tt>."
     ]
    },
    {
     "cell_type": "code",
     "collapsed": false,
     "input": [
      "7000000000*(1-dist.cdf(1000))"
     ],
     "language": "python",
     "metadata": {},
     "outputs": [
      {
       "metadata": {},
       "output_type": "pyout",
       "prompt_number": 11,
       "text": [
        "55602.976430479954"
       ]
      }
     ],
     "prompt_number": 11
    },
    {
     "cell_type": "markdown",
     "metadata": {},
     "source": [
      "How tall do we expect the tallest person to be?  Hint: find the height that yields about 1 person."
     ]
    },
    {
     "cell_type": "code",
     "collapsed": false,
     "input": [
      "person = 0\n",
      "height = 1000\n",
      "while person < 0.95 or person > 1.05:\n",
      "    person = dist.sf(height) * 7e9\n",
      "    height+=100\n",
      "person, height"
     ],
     "language": "python",
     "metadata": {},
     "outputs": [
      {
       "metadata": {},
       "output_type": "pyout",
       "prompt_number": 12,
       "text": [
        "(1.0498671931813419, 601000)"
       ]
      }
     ],
     "prompt_number": 12
    },
    {
     "cell_type": "markdown",
     "metadata": {},
     "source": [
      "##Exercise 5.3\n",
      "\n",
      "The Weibull distribution is a generalization of the exponential distribution that comes up in failure analysis (see http://wikipedia.org/wiki/Weibull_distribution). Its CDF is\n",
      "\n",
      "$CDF(x) = 1 \u2212 \\exp(\u2212(x / \u03bb)^k)$ \n",
      "\n",
      "Can you find a transformation that makes a Weibull distribution look like a straight line? What do the slope and intercept of the line indicate?\n",
      "\n",
      "Use random.weibullvariate to generate a sample from a Weibull distribution and use it to test your transformation."
     ]
    },
    {
     "cell_type": "code",
     "collapsed": false,
     "input": [
      "import random\n",
      "sample = [random.weibullvariate(2, 1) for _ in range(1000)]\n",
      "cdf = thinkstats2.Cdf(sample)\n",
      "thinkplot.Cdf(cdf,transform='weibull')\n",
      "thinkplot.Show()"
     ],
     "language": "python",
     "metadata": {},
     "outputs": [
      {
       "output_type": "stream",
       "stream": "stderr",
       "text": [
        "/home/ihill/anaconda/lib/python2.7/site-packages/matplotlib/axes/_axes.py:475: UserWarning: No labelled objects found. Use label='...' kwarg on individual plots.\n",
        "  warnings.warn(\"No labelled objects found. \"\n"
       ]
      },
      {
       "metadata": {},
       "output_type": "display_data",
       "png": "[encoded data removed]",
       "text": [
        "<matplotlib.figure.Figure at 0xac6d8c6c>"
       ]
      },
      {
       "metadata": {},
       "output_type": "display_data",
       "text": [
        "<matplotlib.figure.Figure at 0xac6dd6cc>"
       ]
      }
     ],
     "prompt_number": 13
    },
    {
     "cell_type": "markdown",
     "metadata": {},
     "source": [
      "##Exercise 5.4\n",
      "\n",
      "For small values of n, we don\u2019t expect an empirical distribution to fit an analytic distribution exactly. One way to evaluate the quality of fit is to generate a sample from an analytic distribution and see how well it matches the data.\n",
      "\n",
      "For example, in Section 5.1 we plotted the distribution of time between births and saw that it is approximately exponential. But the distribution is based on only 44 data points. To see whether the data might have come from an exponential distribution, generate 44 values from an exponential distribution with the same mean as the data, about 33 minutes between births.\n",
      "\n",
      "Plot the distribution of the random values and compare it to the actual distribution. You can use `random.expovariate` to generate the values."
     ]
    },
    {
     "cell_type": "code",
     "collapsed": false,
     "input": [
      "import analytic\n",
      "\n",
      "df = analytic.ReadBabyBoom()\n",
      "diffs = df.minutes.diff()\n",
      "cdf = thinkstats2.Cdf(diffs, label='actual')\n",
      "n = len(diffs)\n",
      "lam = 44.0 / 24 / 60\n",
      "sample = [random.expovariate(lam) for _ in range(n)]\n",
      "model = thinkstats2.Cdf(sample, label='model')\n",
      "    \n",
      "thinkplot.PrePlot(2)\n",
      "thinkplot.Cdfs([cdf, model], complement=True)\n",
      "thinkplot.Show(title='Time between births',\n",
      "                xlabel='minutes',\n",
      "                ylabel='CCDF',\n",
      "                yscale='log')\n",
      "\n",
      "lam, np.mean(sample)"
     ],
     "language": "python",
     "metadata": {},
     "outputs": [
      {
       "metadata": {},
       "output_type": "display_data",
       "png": "[encoded data removed]",
       "text": [
        "<matplotlib.figure.Figure at 0xac81ae4c>"
       ]
      },
      {
       "ename": "NameError",
       "evalue": "name 'np' is not defined",
       "output_type": "pyerr",
       "traceback": [
        "\u001b[1;31m---------------------------------------------------------------------------\u001b[0m\n\u001b[1;31mNameError\u001b[0m                                 Traceback (most recent call last)",
        "\u001b[1;32m<ipython-input-14-cdb93fedf733>\u001b[0m in \u001b[0;36m<module>\u001b[1;34m()\u001b[0m\n\u001b[0;32m     16\u001b[0m                 yscale='log')\n\u001b[0;32m     17\u001b[0m \u001b[1;33m\u001b[0m\u001b[0m\n\u001b[1;32m---> 18\u001b[1;33m \u001b[0mlam\u001b[0m\u001b[1;33m,\u001b[0m \u001b[0mnp\u001b[0m\u001b[1;33m.\u001b[0m\u001b[0mmean\u001b[0m\u001b[1;33m(\u001b[0m\u001b[0msample\u001b[0m\u001b[1;33m)\u001b[0m\u001b[1;33m\u001b[0m\u001b[0m\n\u001b[0m",
        "\u001b[1;31mNameError\u001b[0m: name 'np' is not defined"
       ]
      },
      {
       "metadata": {},
       "output_type": "display_data",
       "text": [
        "<matplotlib.figure.Figure at 0xac6e89ac>"
       ]
      }
     ],
     "prompt_number": 14
    },
    {
     "cell_type": "code",
     "collapsed": false,
     "input": [],
     "language": "python",
     "metadata": {},
     "outputs": []
    },
    {
     "cell_type": "code",
     "collapsed": false,
     "input": [],
     "language": "python",
     "metadata": {},
     "outputs": []
    }
   ],
   "metadata": {}
  }
 ]
}