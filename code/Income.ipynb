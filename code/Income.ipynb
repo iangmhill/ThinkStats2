{
 "metadata": {
  "name": "",
  "signature": "sha256:cb306718b99390e5edcbd05f50ab34e770cb5b9c6b2a67ab7a9aae223cf65814"
 },
 "nbformat": 3,
 "nbformat_minor": 0,
 "worksheets": [
  {
   "cells": [
    {
     "cell_type": "code",
     "collapsed": false,
     "input": [
      "import thinkstats2\n",
      "import hinc2\n",
      "import numpy as np\n",
      "log_sample = hinc2.get_sample()\n",
      "sample = np.power(10, log_sample)\n"
     ],
     "language": "python",
     "metadata": {},
     "outputs": [],
     "prompt_number": 8
    },
    {
     "cell_type": "code",
     "collapsed": false,
     "input": [
      "#Skewness\n",
      "import math\n",
      "def RawMoment(xs,k):\n",
      "    return sum(x**k for x in xs) / len(xs)\n",
      "def CentralMoment(xs,k):\n",
      "    mean = RawMoment(xs,1)\n",
      "    return sum((x-mean)**k for x in xs) / len(xs)\n",
      "def StandardizedMoment(xs,k):\n",
      "    var = CentralMoment(xs,2)\n",
      "    std = math.sqrt(var)\n",
      "    return CentralMoment(xs,k) / std**k\n",
      "def Skewness(xs):\n",
      "    return StandardizedMoment(xs,3)\n",
      "skewness = Skewness(sample)\n",
      "skewness"
     ],
     "language": "python",
     "metadata": {},
     "outputs": [
      {
       "metadata": {},
       "output_type": "pyout",
       "prompt_number": 9,
       "text": [
        "4.9499202444295776"
       ]
      }
     ],
     "prompt_number": 9
    },
    {
     "cell_type": "code",
     "collapsed": false,
     "input": [
      "#Pearson's\n",
      "def Median(xs):\n",
      "    cdf = thinkstats2.MakeCdfFromList(xs)\n",
      "    return cdf.Value(0.5)\n",
      "def PearsonMedianSkewness(xs):\n",
      "    median = Median(xs)\n",
      "    mean = RawMoment(xs,1)\n",
      "    var = CentralMoment(xs,2)\n",
      "    std = math.sqrt(var)\n",
      "    gp = 3 * (mean-median)/std\n",
      "    return gp\n",
      "g = PearsonMedianSkewness(sample)\n",
      "g"
     ],
     "language": "python",
     "metadata": {},
     "outputs": [
      {
       "metadata": {},
       "output_type": "pyout",
       "prompt_number": 10,
       "text": [
        "0.73612580191417987"
       ]
      }
     ],
     "prompt_number": 10
    },
    {
     "cell_type": "code",
     "collapsed": false,
     "input": [],
     "language": "python",
     "metadata": {},
     "outputs": []
    }
   ],
   "metadata": {}
  }
 ]
}