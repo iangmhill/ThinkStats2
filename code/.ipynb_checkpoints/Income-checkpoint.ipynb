{
 "metadata": {
  "name": "",
  "signature": "sha256:6d20564ebcc3b9863658c65d96869b0d0c8229fba7860ee604c4a3c5d1ab9a89"
 },
 "nbformat": 3,
 "nbformat_minor": 0,
 "worksheets": [
  {
   "cells": [
    {
     "cell_type": "code",
     "collapsed": false,
     "input": [
      "import thinkstats2\n",
      "import hinc2\n",
      "sample = hinc2.get_sample()\n"
     ],
     "language": "python",
     "metadata": {},
     "outputs": [],
     "prompt_number": 6
    },
    {
     "cell_type": "code",
     "collapsed": false,
     "input": [
      "#Skewness\n",
      "import math\n",
      "def RawMoment(xs,k):\n",
      "    return sum(x**k for x in xs) / len(xs)\n",
      "def CentralMoment(xs,k):\n",
      "    mean = RawMoment(xs,1)\n",
      "    return sum((x-mean)**k for x in xs) / len(xs)\n",
      "def StandardizedMoment(xs,k):\n",
      "    var = CentralMoment(xs,2)\n",
      "    std = math.sqrt(var)\n",
      "    return CentralMoment(xs,k) / std**k\n",
      "def Skewness(xs):\n",
      "    return StandardizedMoment(xs,3)\n",
      "skewness = Skewness(sample)\n",
      "skewness"
     ],
     "language": "python",
     "metadata": {},
     "outputs": [
      {
       "metadata": {},
       "output_type": "pyout",
       "prompt_number": 7,
       "text": [
        "-0.6413543665662178"
       ]
      }
     ],
     "prompt_number": 7
    },
    {
     "cell_type": "code",
     "collapsed": false,
     "input": [
      "#Pearson's\n",
      "def Median(xs):\n",
      "    cdf = thinkstats2.MakeCdfFromList(xs)\n",
      "    return cdf.Value(0.5)\n",
      "def PearsonMedianSkewness(xs):\n",
      "    median = Median(xs)\n",
      "    mean = RawMoment(xs,1)\n",
      "    var = CentralMoment(xs,2)\n",
      "    std = math.sqrt(var)\n",
      "    gp = 3 * (mean-median)/std\n",
      "    return gp\n",
      "g = PearsonMedianSkewness(sample)\n",
      "g"
     ],
     "language": "python",
     "metadata": {},
     "outputs": [
      {
       "metadata": {},
       "output_type": "pyout",
       "prompt_number": 8,
       "text": [
        "-0.33792025133830716"
       ]
      }
     ],
     "prompt_number": 8
    }
   ],
   "metadata": {}
  }
 ]
}